





import pandas as pd
import numpy as np
import matplotlib.pyplot as plt
import seaborn as sns
import pickle


df = pd.read_csv('laptop_data_cleaned.csv')


df.head()


df.describe()


df.shape


df['Company'].unique()


df['TypeName'].unique()


df['Ram'].unique()


df['Cpu_brand'].unique()


df['Os'].unique()


df['Gpu_brand'].unique()





sns.heatmap(df.select_dtypes(['int','float']).corr(),annot=True,cmap='plasma')


df.info()


X = df.drop('Price',axis=1)


y =df['Price']


X_train, X_test, y_train, y_test = train_test_split(X,y,test_size=0.15,random_state=2)

X_train.shape,X_test.shape


df.select_dtypes(['object']).columns


from sklearn.model_selection import train_test_split
from sklearn.pipeline import Pipeline
from sklearn.compose import ColumnTransformer
from sklearn.preprocessing import LabelEncoder,OneHotEncoder
from sklearn import metrics
from sklearn.linear_model import LinearRegression,Lasso,Ridge
from sklearn.tree import DecisionTreeRegressor
from sklearn.ensemble import RandomForestRegressor,GradientBoostingRegressor
from sklearn import tree


mapper = {i:value for i,value in enumerate(X_train.columns)}
mapper








# Linear Regression
step1 = ColumnTransformer(transformers=[
    ('col_tnf',OneHotEncoder(drop='first'),[0,1,7,10,11])
],remainder='passthrough')

step2 = LinearRegression()

pipe = Pipeline([
    ('step1',step1),
    ('step2',step2)
])

pipe.fit(X_train,y_train)

y_pred = pipe.predict(X_test)

print('R2 score',metrics.r2_score(y_test,y_pred))
print('MAE',metrics.mean_absolute_error(y_test,y_pred))





# Ridge Regression
step1 = ColumnTransformer(transformers=[
    ('col_tnf',OneHotEncoder(drop='first'),[0,1,7,10,11])
],remainder='passthrough')

step2 = Ridge(alpha=10)

pipe = Pipeline([
    ('step1',step1),
    ('step2',step2)
])

pipe.fit(X_train,y_train)

y_pred = pipe.predict(X_test)

print('R2 score',metrics.r2_score(y_test,y_pred))
print('MAE',metrics.mean_absolute_error(y_test,y_pred))





# Decision Tree
step1 = ColumnTransformer(transformers=[
    ('col_tnf',OneHotEncoder(drop='first'),[0,1,7,10,11])
],remainder='passthrough')

step2 = DecisionTreeRegressor(max_depth=8)

pipe = Pipeline([
    ('step1',step1),
    ('step2',step2)
])

pipe.fit(X_train,y_train)

y_pred = pipe.predict(X_test)

print('R2 score',metrics.r2_score(y_test,y_pred))
print('MAE',metrics.mean_absolute_error(y_test,y_pred))


cols = [0,1,7,10,11]





# Random Forest
step1 = ColumnTransformer(transformers=[
    ('col_tnf',OneHotEncoder(drop='first'),cols)
],remainder='passthrough')

step2 = RandomForestRegressor(n_estimators=100,
                              random_state=3,
                              max_samples=0.5,
                              max_features=0.75,
                              max_depth=15)

pipe = Pipeline([
    ('step1',step1),
    ('step2',step2)
])

pipe.fit(X_train,y_train)

y_pred = pipe.predict(X_test)

print('R2 score',metrics.r2_score(y_test,y_pred))
print('MAE',metrics.mean_absolute_error(y_test,y_pred))





file = open('pipe.pkl','wb')
pickle.dump(pipe,file)
file.close()


X_train.columns



